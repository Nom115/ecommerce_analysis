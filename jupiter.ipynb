{
 "cells": [
  {
   "cell_type": "code",
   "execution_count": 2,
   "metadata": {},
   "outputs": [],
   "source": [
    "# Import libs\n",
    "import pandas as pd\n",
    "import mysql.connector\n",
    "import matplotlib.pyplot as plt\n",
    "import numpy as np\n",
    "import seaborn as sns"
   ]
  },
  {
   "cell_type": "code",
   "execution_count": 3,
   "metadata": {},
   "outputs": [],
   "source": [
    "# Import CSVs\n",
    "order_list = pd.read_csv(\"list_of_orders.csv\")\n",
    "order_details = pd.read_csv(\"order_details.csv\")\n",
    "sales_target = pd.read_csv(\"sales_target.csv\")\n",
    "pd.options.display.max_columns = 100\n"
   ]
  },
  {
   "cell_type": "code",
   "execution_count": 5,
   "metadata": {},
   "outputs": [
    {
     "data": {
      "text/html": [
       "<div>\n",
       "<style scoped>\n",
       "    .dataframe tbody tr th:only-of-type {\n",
       "        vertical-align: middle;\n",
       "    }\n",
       "\n",
       "    .dataframe tbody tr th {\n",
       "        vertical-align: top;\n",
       "    }\n",
       "\n",
       "    .dataframe thead th {\n",
       "        text-align: right;\n",
       "    }\n",
       "</style>\n",
       "<table border=\"1\" class=\"dataframe\">\n",
       "  <thead>\n",
       "    <tr style=\"text-align: right;\">\n",
       "      <th></th>\n",
       "      <th>Order ID</th>\n",
       "      <th>Order Date</th>\n",
       "      <th>CustomerName</th>\n",
       "      <th>State</th>\n",
       "      <th>City</th>\n",
       "    </tr>\n",
       "  </thead>\n",
       "  <tbody>\n",
       "    <tr>\n",
       "      <th>0</th>\n",
       "      <td>B-25601</td>\n",
       "      <td>01-04-2018</td>\n",
       "      <td>Bharat</td>\n",
       "      <td>Gujarat</td>\n",
       "      <td>Ahmedabad</td>\n",
       "    </tr>\n",
       "    <tr>\n",
       "      <th>1</th>\n",
       "      <td>B-25602</td>\n",
       "      <td>01-04-2018</td>\n",
       "      <td>Pearl</td>\n",
       "      <td>Maharashtra</td>\n",
       "      <td>Pune</td>\n",
       "    </tr>\n",
       "    <tr>\n",
       "      <th>2</th>\n",
       "      <td>B-25603</td>\n",
       "      <td>03-04-2018</td>\n",
       "      <td>Jahan</td>\n",
       "      <td>Madhya Pradesh</td>\n",
       "      <td>Bhopal</td>\n",
       "    </tr>\n",
       "  </tbody>\n",
       "</table>\n",
       "</div>"
      ],
      "text/plain": [
       "  Order ID  Order Date CustomerName           State       City\n",
       "0  B-25601  01-04-2018       Bharat         Gujarat  Ahmedabad\n",
       "1  B-25602  01-04-2018        Pearl     Maharashtra       Pune\n",
       "2  B-25603  03-04-2018        Jahan  Madhya Pradesh     Bhopal"
      ]
     },
     "execution_count": 5,
     "metadata": {},
     "output_type": "execute_result"
    }
   ],
   "source": [
    "# Listing columns for visulisation\n",
    "order_list.head(3)"
   ]
  },
  {
   "cell_type": "code",
   "execution_count": 4,
   "metadata": {},
   "outputs": [
    {
     "data": {
      "text/html": [
       "<div>\n",
       "<style scoped>\n",
       "    .dataframe tbody tr th:only-of-type {\n",
       "        vertical-align: middle;\n",
       "    }\n",
       "\n",
       "    .dataframe tbody tr th {\n",
       "        vertical-align: top;\n",
       "    }\n",
       "\n",
       "    .dataframe thead th {\n",
       "        text-align: right;\n",
       "    }\n",
       "</style>\n",
       "<table border=\"1\" class=\"dataframe\">\n",
       "  <thead>\n",
       "    <tr style=\"text-align: right;\">\n",
       "      <th></th>\n",
       "      <th>Order ID</th>\n",
       "      <th>Amount</th>\n",
       "      <th>Profit</th>\n",
       "      <th>Quantity</th>\n",
       "      <th>Category</th>\n",
       "      <th>Sub-Category</th>\n",
       "    </tr>\n",
       "  </thead>\n",
       "  <tbody>\n",
       "    <tr>\n",
       "      <th>0</th>\n",
       "      <td>B-25601</td>\n",
       "      <td>1275.0</td>\n",
       "      <td>-1148.0</td>\n",
       "      <td>7</td>\n",
       "      <td>Furniture</td>\n",
       "      <td>Bookcases</td>\n",
       "    </tr>\n",
       "    <tr>\n",
       "      <th>1</th>\n",
       "      <td>B-25601</td>\n",
       "      <td>66.0</td>\n",
       "      <td>-12.0</td>\n",
       "      <td>5</td>\n",
       "      <td>Clothing</td>\n",
       "      <td>Stole</td>\n",
       "    </tr>\n",
       "    <tr>\n",
       "      <th>2</th>\n",
       "      <td>B-25601</td>\n",
       "      <td>8.0</td>\n",
       "      <td>-2.0</td>\n",
       "      <td>3</td>\n",
       "      <td>Clothing</td>\n",
       "      <td>Hankerchief</td>\n",
       "    </tr>\n",
       "  </tbody>\n",
       "</table>\n",
       "</div>"
      ],
      "text/plain": [
       "  Order ID  Amount  Profit  Quantity   Category Sub-Category\n",
       "0  B-25601  1275.0 -1148.0         7  Furniture    Bookcases\n",
       "1  B-25601    66.0   -12.0         5   Clothing        Stole\n",
       "2  B-25601     8.0    -2.0         3   Clothing  Hankerchief"
      ]
     },
     "execution_count": 4,
     "metadata": {},
     "output_type": "execute_result"
    }
   ],
   "source": [
    "order_details.head(3)"
   ]
  },
  {
   "cell_type": "code",
   "execution_count": 6,
   "metadata": {},
   "outputs": [
    {
     "data": {
      "text/html": [
       "<div>\n",
       "<style scoped>\n",
       "    .dataframe tbody tr th:only-of-type {\n",
       "        vertical-align: middle;\n",
       "    }\n",
       "\n",
       "    .dataframe tbody tr th {\n",
       "        vertical-align: top;\n",
       "    }\n",
       "\n",
       "    .dataframe thead th {\n",
       "        text-align: right;\n",
       "    }\n",
       "</style>\n",
       "<table border=\"1\" class=\"dataframe\">\n",
       "  <thead>\n",
       "    <tr style=\"text-align: right;\">\n",
       "      <th></th>\n",
       "      <th>Month of Order Date</th>\n",
       "      <th>Category</th>\n",
       "      <th>Target</th>\n",
       "    </tr>\n",
       "  </thead>\n",
       "  <tbody>\n",
       "    <tr>\n",
       "      <th>0</th>\n",
       "      <td>Apr-18</td>\n",
       "      <td>Furniture</td>\n",
       "      <td>10400.0</td>\n",
       "    </tr>\n",
       "    <tr>\n",
       "      <th>1</th>\n",
       "      <td>May-18</td>\n",
       "      <td>Furniture</td>\n",
       "      <td>10500.0</td>\n",
       "    </tr>\n",
       "    <tr>\n",
       "      <th>2</th>\n",
       "      <td>Jun-18</td>\n",
       "      <td>Furniture</td>\n",
       "      <td>10600.0</td>\n",
       "    </tr>\n",
       "  </tbody>\n",
       "</table>\n",
       "</div>"
      ],
      "text/plain": [
       "  Month of Order Date   Category   Target\n",
       "0              Apr-18  Furniture  10400.0\n",
       "1              May-18  Furniture  10500.0\n",
       "2              Jun-18  Furniture  10600.0"
      ]
     },
     "execution_count": 6,
     "metadata": {},
     "output_type": "execute_result"
    }
   ],
   "source": [
    "sales_target.head(3)"
   ]
  },
  {
   "attachments": {},
   "cell_type": "markdown",
   "metadata": {},
   "source": [
    "Using the Order ID as an index, the date of the order, the State and City from the \"list of orders\" dataset can be found. Furthermore, using the Order ID, the Amount of the order, the Profit made, and the Category, can be found. From the Category and Date, the % to target/% over target, can be found. From all the above, the State and City with the highest amount of orders can be found, as can the highest performing categories."
   ]
  },
  {
   "cell_type": "code",
   "execution_count": 7,
   "metadata": {},
   "outputs": [
    {
     "data": {
      "text/html": [
       "<div>\n",
       "<style scoped>\n",
       "    .dataframe tbody tr th:only-of-type {\n",
       "        vertical-align: middle;\n",
       "    }\n",
       "\n",
       "    .dataframe tbody tr th {\n",
       "        vertical-align: top;\n",
       "    }\n",
       "\n",
       "    .dataframe thead th {\n",
       "        text-align: right;\n",
       "    }\n",
       "</style>\n",
       "<table border=\"1\" class=\"dataframe\">\n",
       "  <thead>\n",
       "    <tr style=\"text-align: right;\">\n",
       "      <th></th>\n",
       "      <th>Order ID</th>\n",
       "      <th>Order Date</th>\n",
       "      <th>CustomerName</th>\n",
       "      <th>State</th>\n",
       "      <th>City</th>\n",
       "      <th>Amount</th>\n",
       "      <th>Profit</th>\n",
       "      <th>Quantity</th>\n",
       "      <th>Category</th>\n",
       "      <th>Sub-Category</th>\n",
       "    </tr>\n",
       "  </thead>\n",
       "  <tbody>\n",
       "    <tr>\n",
       "      <th>0</th>\n",
       "      <td>B-25601</td>\n",
       "      <td>01-04-2018</td>\n",
       "      <td>Bharat</td>\n",
       "      <td>Gujarat</td>\n",
       "      <td>Ahmedabad</td>\n",
       "      <td>1275.0</td>\n",
       "      <td>-1148.0</td>\n",
       "      <td>7</td>\n",
       "      <td>Furniture</td>\n",
       "      <td>Bookcases</td>\n",
       "    </tr>\n",
       "    <tr>\n",
       "      <th>1</th>\n",
       "      <td>B-25601</td>\n",
       "      <td>01-04-2018</td>\n",
       "      <td>Bharat</td>\n",
       "      <td>Gujarat</td>\n",
       "      <td>Ahmedabad</td>\n",
       "      <td>66.0</td>\n",
       "      <td>-12.0</td>\n",
       "      <td>5</td>\n",
       "      <td>Clothing</td>\n",
       "      <td>Stole</td>\n",
       "    </tr>\n",
       "    <tr>\n",
       "      <th>2</th>\n",
       "      <td>B-25601</td>\n",
       "      <td>01-04-2018</td>\n",
       "      <td>Bharat</td>\n",
       "      <td>Gujarat</td>\n",
       "      <td>Ahmedabad</td>\n",
       "      <td>8.0</td>\n",
       "      <td>-2.0</td>\n",
       "      <td>3</td>\n",
       "      <td>Clothing</td>\n",
       "      <td>Hankerchief</td>\n",
       "    </tr>\n",
       "  </tbody>\n",
       "</table>\n",
       "</div>"
      ],
      "text/plain": [
       "  Order ID  Order Date CustomerName    State       City  Amount  Profit   \n",
       "0  B-25601  01-04-2018       Bharat  Gujarat  Ahmedabad  1275.0 -1148.0  \\\n",
       "1  B-25601  01-04-2018       Bharat  Gujarat  Ahmedabad    66.0   -12.0   \n",
       "2  B-25601  01-04-2018       Bharat  Gujarat  Ahmedabad     8.0    -2.0   \n",
       "\n",
       "   Quantity   Category Sub-Category  \n",
       "0         7  Furniture    Bookcases  \n",
       "1         5   Clothing        Stole  \n",
       "2         3   Clothing  Hankerchief  "
      ]
     },
     "execution_count": 7,
     "metadata": {},
     "output_type": "execute_result"
    }
   ],
   "source": [
    "# Merge \"list of orders\" and \"order details\"\n",
    "\n",
    "df = pd.merge(order_list, order_details, on=\"Order ID\")\n",
    "df.head(3)\n"
   ]
  },
  {
   "cell_type": "code",
   "execution_count": 8,
   "metadata": {},
   "outputs": [
    {
     "data": {
      "text/plain": [
       "Order ID         object\n",
       "Order Date       object\n",
       "CustomerName     object\n",
       "State            object\n",
       "City             object\n",
       "Amount          float64\n",
       "Profit          float64\n",
       "Quantity          int64\n",
       "Category         object\n",
       "Sub-Category     object\n",
       "dtype: object"
      ]
     },
     "execution_count": 8,
     "metadata": {},
     "output_type": "execute_result"
    }
   ],
   "source": [
    "df.dtypes"
   ]
  },
  {
   "cell_type": "code",
   "execution_count": 9,
   "metadata": {},
   "outputs": [
    {
     "data": {
      "text/plain": [
       "(1500, 10)"
      ]
     },
     "execution_count": 9,
     "metadata": {},
     "output_type": "execute_result"
    }
   ],
   "source": [
    "df.shape"
   ]
  },
  {
   "cell_type": "code",
   "execution_count": 10,
   "metadata": {},
   "outputs": [
    {
     "data": {
      "text/plain": [
       "Order ID        0.0\n",
       "Order Date      0.0\n",
       "CustomerName    0.0\n",
       "State           0.0\n",
       "City            0.0\n",
       "Amount          0.0\n",
       "Profit          0.0\n",
       "Quantity        0.0\n",
       "Category        0.0\n",
       "Sub-Category    0.0\n",
       "dtype: float64"
      ]
     },
     "execution_count": 10,
     "metadata": {},
     "output_type": "execute_result"
    }
   ],
   "source": [
    "# Checking for missing values\n",
    "(df.isna().sum()/len(df))*100"
   ]
  },
  {
   "attachments": {},
   "cell_type": "markdown",
   "metadata": {},
   "source": [
    "As there are no missing values, imputation was not required."
   ]
  },
  {
   "cell_type": "code",
   "execution_count": 11,
   "metadata": {},
   "outputs": [],
   "source": [
    "# Cleaning and transformation functions\n",
    "\n",
    "df.dropna(subset=[\"Order ID\"], inplace=True)\n",
    "df[\"Order ID\"] = df[\"Order ID\"].astype('string')\n",
    "df[\"State\"] = df[\"State\"].astype(\"category\")\n",
    "df[\"City\"] = df[\"City\"].astype('string')\n",
    "df[\"Order Date\"] = pd.to_datetime(df[\"Order Date\"], format=\"%d-%m-%Y\").dt.strftime(\"%m-%Y\")\n",
    "df = df.drop('CustomerName', axis=1)"
   ]
  },
  {
   "cell_type": "code",
   "execution_count": 23,
   "metadata": {},
   "outputs": [
    {
     "data": {
      "text/html": [
       "<div>\n",
       "<style scoped>\n",
       "    .dataframe tbody tr th:only-of-type {\n",
       "        vertical-align: middle;\n",
       "    }\n",
       "\n",
       "    .dataframe tbody tr th {\n",
       "        vertical-align: top;\n",
       "    }\n",
       "\n",
       "    .dataframe thead th {\n",
       "        text-align: right;\n",
       "    }\n",
       "</style>\n",
       "<table border=\"1\" class=\"dataframe\">\n",
       "  <thead>\n",
       "    <tr style=\"text-align: right;\">\n",
       "      <th></th>\n",
       "      <th>Order Date</th>\n",
       "      <th>Category</th>\n",
       "      <th>Target</th>\n",
       "    </tr>\n",
       "  </thead>\n",
       "  <tbody>\n",
       "    <tr>\n",
       "      <th>0</th>\n",
       "      <td>04-2018</td>\n",
       "      <td>Furniture</td>\n",
       "      <td>10400.0</td>\n",
       "    </tr>\n",
       "    <tr>\n",
       "      <th>1</th>\n",
       "      <td>05-2018</td>\n",
       "      <td>Furniture</td>\n",
       "      <td>10500.0</td>\n",
       "    </tr>\n",
       "    <tr>\n",
       "      <th>2</th>\n",
       "      <td>06-2018</td>\n",
       "      <td>Furniture</td>\n",
       "      <td>10600.0</td>\n",
       "    </tr>\n",
       "    <tr>\n",
       "      <th>3</th>\n",
       "      <td>07-2018</td>\n",
       "      <td>Furniture</td>\n",
       "      <td>10800.0</td>\n",
       "    </tr>\n",
       "    <tr>\n",
       "      <th>4</th>\n",
       "      <td>08-2018</td>\n",
       "      <td>Furniture</td>\n",
       "      <td>10900.0</td>\n",
       "    </tr>\n",
       "  </tbody>\n",
       "</table>\n",
       "</div>"
      ],
      "text/plain": [
       "  Order Date   Category   Target\n",
       "0    04-2018  Furniture  10400.0\n",
       "1    05-2018  Furniture  10500.0\n",
       "2    06-2018  Furniture  10600.0\n",
       "3    07-2018  Furniture  10800.0\n",
       "4    08-2018  Furniture  10900.0"
      ]
     },
     "execution_count": 23,
     "metadata": {},
     "output_type": "execute_result"
    }
   ],
   "source": [
    "sales_target = sales_target.rename(columns={'Date': 'Order Date'})\n",
    "# sales_target['Order Date'] = pd.to_datetime(sales_target['Order Date'], format='%b-%y').dt.strftime('%m-%Y')\n",
    "sales_target.head()"
   ]
  },
  {
   "cell_type": "code",
   "execution_count": 76,
   "metadata": {},
   "outputs": [
    {
     "data": {
      "text/plain": [
       "Order ID        string[python]\n",
       "Order Date      datetime64[ns]\n",
       "State                 category\n",
       "City            string[python]\n",
       "Amount                 float64\n",
       "Profit                 float64\n",
       "Quantity                 int64\n",
       "Category                object\n",
       "Sub-Category            object\n",
       "dtype: object"
      ]
     },
     "execution_count": 76,
     "metadata": {},
     "output_type": "execute_result"
    }
   ],
   "source": [
    "df.dtypes"
   ]
  },
  {
   "attachments": {},
   "cell_type": "markdown",
   "metadata": {},
   "source": [
    "# The Questions\n",
    "## Question 1\n",
    "Question: What is the total sales and profit for each category and sub-category?\n",
    "Analysis: By merging the \"order_details.csv\" and \"list_of_orders.csv\" datasets based on the \"Order ID\" column, we can calculate the total sales and profit for each category and sub-category. This analysis will provide insights into the revenue generated and profitability of different product categories.\n",
    "## Question 2\n",
    "Question: Is there a correlation between the sales target and the actual sales achieved for each month?\n",
    "Analysis: By comparing the \"Sales_target.csv\" and \"list_of_orders.csv\" datasets based on the \"Month of Order Date\" column, we can determine the correlation between the sales target and the actual sales achieved. This analysis can help assess the effectiveness of the sales target setting and identify any patterns or trends in sales performance.\n",
    "## Question 3\n",
    "Question (Prediction): Can we predict the future sales based on historical data?\n",
    "Analysis: Using historical data from the \"list_of_orders.csv\" dataset, we can build a predictive model to forecast future sales. By applying regression or time series analysis techniques, we can train the model on past sales patterns and make predictions for future periods. This analysis will provide insights into potential sales trends and assist in making informed business decisions."
   ]
  },
  {
   "attachments": {},
   "cell_type": "markdown",
   "metadata": {},
   "source": [
    "# Analysis\n",
    "## Question 1\n",
    "Question: What is the total sales and profit for each category and sub-category?\n",
    "Analysis: By merging the \"order_details.csv\" and \"list_of_orders.csv\" datasets based on the \"Order ID\" column, we can calculate the total sales and profit for each category and sub-category. This analysis will provide insights into the revenue generated and profitability of different product categories.\n"
   ]
  },
  {
   "cell_type": "code",
   "execution_count": 56,
   "metadata": {},
   "outputs": [
    {
     "name": "stdout",
     "output_type": "stream",
     "text": [
      "        Sub-Category  Profit\n",
      "0        Accessories  3559.0\n",
      "1          Bookcases  4888.0\n",
      "2             Chairs   577.0\n",
      "3   Electronic Games -1236.0\n",
      "4        Furnishings   844.0\n",
      "5        Hankerchief  2098.0\n",
      "6              Kurti   181.0\n",
      "7           Leggings   260.0\n",
      "8             Phones  2207.0\n",
      "9           Printers  5964.0\n",
      "10             Saree   352.0\n",
      "11             Shirt  1131.0\n",
      "12             Skirt   235.0\n",
      "13             Stole  2559.0\n",
      "14           T-shirt  1500.0\n",
      "15            Tables -4011.0\n",
      "16          Trousers  2847.0\n"
     ]
    }
   ],
   "source": [
    "\n",
    "country_profit = df.groupby('Sub-Category')['Profit'].sum().reset_index()\n",
    "subcat_profit = country_profit['Sub-Category']\n",
    "profit_profit = country_profit['Profit']\n",
    "print(country_profit)"
   ]
  },
  {
   "cell_type": "code",
   "execution_count": 58,
   "metadata": {},
   "outputs": [
    {
     "data": {
      "image/png": "[encoded data removed]",
      "text/plain": [
       "<Figure size 750x350 with 1 Axes>"
      ]
     },
     "metadata": {},
     "output_type": "display_data"
    }
   ],
   "source": [
    "\n",
    "plt.bar(subcat_profit, profit_profit, color = 'red')\n",
    "plt.xticks(rotation=90, ha='right')  # Rotate and align x-axis labels\n",
    "plt.tight_layout()\n",
    "plt.title(\"Profit For Each Sub-category\")\n",
    "plt.xlabel(\"Sub-catagory\")\n",
    "plt.ylabel(\"Profit (INR)\")\n",
    "plt.tight_layout()\n",
    "plt.grid()\n",
    "plt.show()"
   ]
  },
  {
   "attachments": {},
   "cell_type": "markdown",
   "metadata": {},
   "source": [
    "# Question 2\n",
    "\n",
    "Question: Is there a correlation between the sales target and the actual sales achieved for each month?\n",
    "Analysis: By comparing the \"Sales_target.csv\" and \"list_of_orders.csv\" datasets based on the \"Month of Order Date\" column, we can determine the correlation between the sales target and the actual sales achieved. This analysis can help assess the effectiveness of the sales target setting and identify any patterns or trends in sales performance."
   ]
  },
  {
   "cell_type": "code",
   "execution_count": 33,
   "metadata": {},
   "outputs": [
    {
     "name": "stdout",
     "output_type": "stream",
     "text": [
      "   Order Date    Amount  targets  percent_to_target\n",
      "0     01-2019  184317.0  10400.0        1772.278846\n",
      "1     02-2019  115272.0  10500.0        1097.828571\n",
      "2     03-2019  176811.0  10600.0        1668.028302\n",
      "3     04-2018   98178.0  10800.0         909.055556\n",
      "4     05-2018   85635.0  10900.0         785.642202\n",
      "5     06-2018   70974.0  11000.0         645.218182\n",
      "6     07-2018   38898.0  11100.0         350.432432\n",
      "7     08-2018   92697.0  11300.0         820.327434\n",
      "8     09-2018   79884.0  11400.0         700.736842\n",
      "9     10-2018   94845.0  11500.0         824.739130\n",
      "10    11-2018  144258.0  11600.0        1243.603448\n",
      "11    12-2018  112737.0  11800.0         955.398305\n"
     ]
    }
   ],
   "source": [
    "country_profit = pd.merge(df, sales_target, on=\"Order Date\")\n",
    "country_profit = country_profit.groupby('Order Date')['Amount'].sum().reset_index()\n",
    "country_profit = country_profit.assign(targets=sales_target['Target'])\n",
    "country_profit = country_profit.assign(percent_to_target=(country_profit['Amount'])/sales_target['Target']*100)\n",
    "city_profit = country_profit['Order Date']\n",
    "profit_profit = country_profit['Amount']\n",
    "print(country_profit)\n"
   ]
  },
  {
   "cell_type": "code",
   "execution_count": 51,
   "metadata": {},
   "outputs": [
    {
     "data": {
      "image/png": "[encoded data removed]",
      "text/plain": [
       "<Figure size 750x350 with 1 Axes>"
      ]
     },
     "metadata": {},
     "output_type": "display_data"
    }
   ],
   "source": [
    "plt.rcParams[\"figure.figsize\"] = [7.50, 3.50]\n",
    "plt.rcParams[\"figure.autolayout\"] = True\n",
    "fig, ax = plt.subplots()\n",
    "\n",
    "# Any slice below 10% does not receive a label\n",
    "\n",
    "def autopct_format(value):\n",
    "    if value < 10:\n",
    "        return ''\n",
    "    else:\n",
    "        return '%1.1f%%' % value\n",
    "\n",
    "plt.pie(country_profit['Amount'], labels = country_profit['Order Date'], shadow = True, autopct=autopct_format)\n",
    "plt.title(\"Profit by month\")\n",
    "\n",
    "plt.tight_layout()\n",
    "plt.show()"
   ]
  },
  {
   "cell_type": "code",
   "execution_count": 39,
   "metadata": {},
   "outputs": [
    {
     "data": {
      "image/png": "[encoded data removed]",
      "text/plain": [
       "<Figure size 750x350 with 1 Axes>"
      ]
     },
     "metadata": {},
     "output_type": "display_data"
    }
   ],
   "source": [
    "country_profit['percent_to_target'].plot(kind='line', marker='*', color='black', ms=10)\n",
    "plt.show()"
   ]
  }
 ],
 "metadata": {
  "kernelspec": {
   "display_name": "portproj1",
   "language": "python",
   "name": "python3"
  },
  "language_info": {
   "codemirror_mode": {
    "name": "ipython",
    "version": 3
   },
   "file_extension": ".py",
   "mimetype": "text/x-python",
   "name": "python",
   "nbconvert_exporter": "python",
   "pygments_lexer": "ipython3",
   "version": "3.10.2"
  },
  "orig_nbformat": 4
 },
 "nbformat": 4,
 "nbformat_minor": 2
}
